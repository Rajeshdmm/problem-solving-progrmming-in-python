{
 "cells": [
  {
   "cell_type": "code",
   "execution_count": 8,
   "metadata": {},
   "outputs": [
    {
     "name": "stdout",
     "output_type": "stream",
     "text": [
      "{'sairam': 260, 'latha': 100}\n"
     ]
    }
   ],
   "source": [
    "student_marks = [('sairam',[190,10,60]),('latha',[10,30,60])]\n",
    "students_dict = {}\n",
    "\n",
    "for student in student_marks:\n",
    "    name = student[0]\n",
    "    marks = sum(student[1])\n",
    "    #marks = max(student[1])\n",
    "    students_dict[name] = marks\n",
    "    \n",
    "print(students_dict)"
   ]
  },
  {
   "cell_type": "code",
   "execution_count": null,
   "metadata": {},
   "outputs": [],
   "source": []
  },
  {
   "cell_type": "code",
   "execution_count": null,
   "metadata": {},
   "outputs": [],
   "source": [
    "all_marks = students_dict.values()\n",
    "max_marks = max(all_marks)\n",
    "for student in student"
   ]
  },
  {
   "cell_type": "markdown",
   "metadata": {},
   "source": [
    "### find the highest frequency of website and if multiple website has same frequency represent in alphabet order"
   ]
  },
  {
   "cell_type": "code",
   "execution_count": null,
   "metadata": {},
   "outputs": [],
   "source": [
    "links = ['www.google.com','www.gmail.com','www.gmail.com','www.eenadu.net','www.google.com']\n",
    "\n",
    "\n"
   ]
  }
 ],
 "metadata": {
  "kernelspec": {
   "display_name": "Python 3",
   "language": "python",
   "name": "python3"
  },
  "language_info": {
   "codemirror_mode": {
    "name": "ipython",
    "version": 3
   },
   "file_extension": ".py",
   "mimetype": "text/x-python",
   "name": "python",
   "nbconvert_exporter": "python",
   "pygments_lexer": "ipython3",
   "version": "3.7.3"
  }
 },
 "nbformat": 4,
 "nbformat_minor": 2
}
