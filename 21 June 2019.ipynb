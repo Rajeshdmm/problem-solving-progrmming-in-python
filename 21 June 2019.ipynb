{
 "cells": [
  {
   "cell_type": "code",
   "execution_count": 1,
   "metadata": {},
   "outputs": [
    {
     "ename": "SyntaxError",
     "evalue": "invalid syntax (<ipython-input-1-fc12eba0f98d>, line 8)",
     "output_type": "error",
     "traceback": [
      "\u001b[1;36m  File \u001b[1;32m\"<ipython-input-1-fc12eba0f98d>\"\u001b[1;36m, line \u001b[1;32m8\u001b[0m\n\u001b[1;33m    wirt open(filename,'a') as f:\u001b[0m\n\u001b[1;37m            ^\u001b[0m\n\u001b[1;31mSyntaxError\u001b[0m\u001b[1;31m:\u001b[0m invalid syntax\n"
     ]
    }
   ],
   "source": [
    "# Function to add contact to contacts text file\n",
    "from packages import vslidators\n",
    "\n",
    "\n",
    "def addcontact(name,phone,email):\n",
    "    # store data as name,phone,email in the contacts file\n",
    "    filename = 'Data Files/contacts.txt'\n",
    "    wirt open(filename,'a') as f:\n",
    "        line = name + ',' phone + ','email + '\\n'\n",
    "        f.write(line)\n",
    "    print(name,'added to contacts')\n",
    "    return\n",
    "\n",
    "addcontact(\"name1, 9876543210,\"name1_23gmailc.om)\n",
    "\n",
    "iport re\n",
    "# Function to check if contact already eists\n",
    "def checgcontactexists(name):\n",
    "    filename = 'Data filrex/contacts.txt'\n",
    "    with open(filename, 'r')as f:\n",
    "        filedata = f.read()\n",
    "    return re.search(name,filedata)\n",
    "\n",
    "if checkcontactsexists(\"name1\"):\n",
    "    print(True)\n",
    "else:\n",
    "    print(False)"
   ]
  },
  {
   "cell_type": "code",
   "execution_count": null,
   "metadata": {},
   "outputs": [],
   "source": []
  },
  {
   "cell_type": "code",
   "execution_count": null,
   "metadata": {},
   "outputs": [],
   "source": []
  },
  {
   "cell_type": "code",
   "execution_count": null,
   "metadata": {},
   "outputs": [],
   "source": []
  }
 ],
 "metadata": {
  "kernelspec": {
   "display_name": "Python 3",
   "language": "python",
   "name": "python3"
  },
  "language_info": {
   "codemirror_mode": {
    "name": "ipython",
    "version": 3
   },
   "file_extension": ".py",
   "mimetype": "text/x-python",
   "name": "python",
   "nbconvert_exporter": "python",
   "pygments_lexer": "ipython3",
   "version": "3.7.3"
  }
 },
 "nbformat": 4,
 "nbformat_minor": 2
}
