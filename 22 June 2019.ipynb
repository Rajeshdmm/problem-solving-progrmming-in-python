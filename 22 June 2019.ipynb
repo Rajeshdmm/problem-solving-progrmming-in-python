{
 "cells": [
  {
   "cell_type": "code",
   "execution_count": 25,
   "metadata": {},
   "outputs": [],
   "source": [
    "fh = open('book.txt','w')"
   ]
  },
  {
   "cell_type": "code",
   "execution_count": 26,
   "metadata": {},
   "outputs": [
    {
     "data": {
      "text/plain": [
       "15"
      ]
     },
     "execution_count": 26,
     "metadata": {},
     "output_type": "execute_result"
    }
   ],
   "source": [
    "data = \"hi good morning\"\n",
    "fh.write(data)"
   ]
  },
  {
   "cell_type": "code",
   "execution_count": 27,
   "metadata": {},
   "outputs": [],
   "source": [
    "fh.close()"
   ]
  },
  {
   "cell_type": "code",
   "execution_count": null,
   "metadata": {},
   "outputs": [],
   "source": []
  },
  {
   "cell_type": "code",
   "execution_count": 28,
   "metadata": {},
   "outputs": [
    {
     "name": "stdout",
     "output_type": "stream",
     "text": [
      "hi good morning\n"
     ]
    }
   ],
   "source": [
    "fh = open('book.txt','r')\n",
    "print(fh.read())\n",
    "fh.close()"
   ]
  },
  {
   "cell_type": "code",
   "execution_count": null,
   "metadata": {},
   "outputs": [],
   "source": []
  },
  {
   "cell_type": "code",
   "execution_count": null,
   "metadata": {},
   "outputs": [],
   "source": []
  },
  {
   "cell_type": "markdown",
   "metadata": {},
   "source": [
    "### Date : 22-June-2019\n",
    "\n",
    "#### Day Ojectives\n",
    "- File Handling\n",
    "    - Basic File Data processing\n",
    "        - Accessing and Modifying File data\n",
    "    - Character Count\n",
    "    - Line Count\n",
    "    - File Size\n",
    "    - Word Count\n",
    "    - Unique Word Count"
   ]
  },
  {
   "cell_type": "code",
   "execution_count": 39,
   "metadata": {},
   "outputs": [
    {
     "name": "stdout",
     "output_type": "stream",
     "text": [
      "Line 1\n",
      "Line 2\n"
     ]
    }
   ],
   "source": [
    "# Read  a file - File should exist(Read mode)\n",
    "# Write to a FIle - Existing(append mode) or new file(Write mode)\n",
    "\n",
    "\n",
    "def readFile(filepath):\n",
    "    with open(filepath,'r') as f:\n",
    "        filedata = f.read()\n",
    "        \n",
    "    return filedata\n",
    "\n",
    "filepath = 'Data Files/Data.txt'\n",
    "print(readFile(filepath))"
   ]
  },
  {
   "cell_type": "code",
   "execution_count": 48,
   "metadata": {},
   "outputs": [
    {
     "name": "stdout",
     "output_type": "stream",
     "text": [
      "total number of characters : 13\n"
     ]
    }
   ],
   "source": [
    "def CharacterCount(filepath):\n",
    "    count = 0\n",
    "    with open(filepath,'r') as f:\n",
    "        filepath = 'Data Files/Data.txt'\n",
    "        filedata = f.read() # reads entire file data into a string\n",
    "        for i in filedata:\n",
    "           #  if i.isspace() !=True:\n",
    "                count = count + 1\n",
    "        print(\"total number of characters :\", count)\n",
    "        \n",
    "CharacterCount(filepath)"
   ]
  },
  {
   "cell_type": "code",
   "execution_count": 49,
   "metadata": {},
   "outputs": [
    {
     "name": "stdout",
     "output_type": "stream",
     "text": [
      "total no of words: 13\n"
     ]
    }
   ],
   "source": [
    "def wordCount(filepath):\n",
    "    with open(filepath,'r') as f:\n",
    "        filepath = 'Data Files/Data.txt'\n",
    "        filedata = f.read()\n",
    "        for i in filedata:\n",
    "            count = count + 1\n",
    "        print(\"total no of words:\", count)\n",
    "        \n",
    "        \n",
    "wordCount(filepath)"
   ]
  },
  {
   "cell_type": "code",
   "execution_count": 53,
   "metadata": {},
   "outputs": [
    {
     "name": "stdout",
     "output_type": "stream",
     "text": [
      "2\n"
     ]
    }
   ],
   "source": [
    "def lineCount(filepath):\n",
    "    with open(filepath,'r') as f:\n",
    "        line = 0\n",
    "        for i in f:\n",
    "                line = line + 1\n",
    "    print(line)\n",
    "    \n",
    "filepath = 'Data Files/Data.txt'\n",
    "lineCount(filepath)\n",
    "    "
   ]
  },
  {
   "cell_type": "code",
   "execution_count": 54,
   "metadata": {},
   "outputs": [
    {
     "name": "stdout",
     "output_type": "stream",
     "text": [
      "13 bytes\n"
     ]
    }
   ],
   "source": [
    "import os \n",
    "def filesize(f):\n",
    "    b =os.path.getsize(f)\n",
    "    if b<1000:\n",
    "        print(b,\"bytes\")\n",
    "    else:\n",
    "        a=b//1000\n",
    "        \n",
    "        print(a,\"KB\")\n",
    "        return\n",
    "    \n",
    "filesize('Data Files/Data.txt')\n"
   ]
  },
  {
   "cell_type": "code",
   "execution_count": 57,
   "metadata": {},
   "outputs": [
    {
     "data": {
      "text/plain": [
       "[1, 2, 3]"
      ]
     },
     "execution_count": 57,
     "metadata": {},
     "output_type": "execute_result"
    }
   ],
   "source": [
    "# [1, 2, 3, 3, 2, 1]    ->  [1, 2, 3]\n",
    "# Create a empty unique list []\n",
    "\n",
    "def uniqueData(li):\n",
    "    # Create an empty unidue list\n",
    "    unique = []\n",
    "    # For every element in the main list,\n",
    "        # Check if it exists in the unique list.\n",
    "        # If it does not exist, add it to unique \n",
    "    for element in li:\n",
    "        if element not in unique:\n",
    "            unique.append(element)\n",
    "    return unique\n",
    "\n",
    "            \n",
    "li = [1, 2, 3, 3, 2, 1]\n",
    "\n",
    "uniqueData(li)"
   ]
  },
  {
   "cell_type": "code",
   "execution_count": 70,
   "metadata": {},
   "outputs": [
    {
     "data": {
      "text/plain": [
       "['Line 1\\n', 'Line 2\\n', 'rajesh\\n', 'lokesh\\n', 'harish\\n', 'tejesh\\n']"
      ]
     },
     "execution_count": 70,
     "metadata": {},
     "output_type": "execute_result"
    }
   ],
   "source": [
    "def uniqueCount(filepath):\n",
    "    unique = []\n",
    "    with open(filepath,'r') as f:\n",
    "        \n",
    "        for element in f:\n",
    "            if element not in unique:\n",
    "                unique.append(element)\n",
    "        return unique\n",
    "\n",
    "filepath = 'Data Files/Data.txt'\n",
    "uniqueCount(filepath)\n",
    " \n",
    "        "
   ]
  },
  {
   "cell_type": "code",
   "execution_count": 67,
   "metadata": {},
   "outputs": [
    {
     "name": "stdout",
     "output_type": "stream",
     "text": [
      "Line : 2\n",
      "1 : 1\n",
      "2 : 1\n",
      "rajesh : 2\n",
      "lokesh : 1\n",
      "harish : 1\n",
      "tejesh : 2\n"
     ]
    }
   ],
   "source": [
    "def uniquewordCount(filepath):\n",
    "    c = 0\n",
    "    unique = []\n",
    "    with open(filepath,'r') as f:\n",
    "        filedata=f.read().split()\n",
    "        for i in filedata:\n",
    "            k = i\n",
    "            if k not in unique:\n",
    "                unique.append(k)\n",
    "                for j in filedata:\n",
    "                    if k==j:\n",
    "                        c = c+1\n",
    "                print(k,':',c)\n",
    "                c = 0\n",
    "    return\n",
    "    \n",
    "uniquewordCount(filepath)\n",
    "    "
   ]
  },
  {
   "cell_type": "code",
   "execution_count": 74,
   "metadata": {},
   "outputs": [
    {
     "ename": "NameError",
     "evalue": "name 'allwords' is not defined",
     "output_type": "error",
     "traceback": [
      "\u001b[1;31m---------------------------------------------------------------------------\u001b[0m",
      "\u001b[1;31mNameError\u001b[0m                                 Traceback (most recent call last)",
      "\u001b[1;32m<ipython-input-74-f81cdb70e7fd>\u001b[0m in \u001b[0;36m<module>\u001b[1;34m\u001b[0m\n\u001b[0;32m     18\u001b[0m     \u001b[1;32mreturn\u001b[0m\u001b[1;33m\u001b[0m\u001b[1;33m\u001b[0m\u001b[0m\n\u001b[0;32m     19\u001b[0m \u001b[1;33m\u001b[0m\u001b[0m\n\u001b[1;32m---> 20\u001b[1;33m \u001b[0mfreqDistributionWords\u001b[0m\u001b[1;33m(\u001b[0m\u001b[0mfilepath\u001b[0m\u001b[1;33m)\u001b[0m\u001b[1;33m\u001b[0m\u001b[1;33m\u001b[0m\u001b[0m\n\u001b[0m",
      "\u001b[1;32m<ipython-input-74-f81cdb70e7fd>\u001b[0m in \u001b[0;36mfreqDistributionWords\u001b[1;34m(filepath)\u001b[0m\n\u001b[0;32m     13\u001b[0m \u001b[1;33m\u001b[0m\u001b[0m\n\u001b[0;32m     14\u001b[0m     \u001b[1;32mfor\u001b[0m \u001b[0mword\u001b[0m \u001b[1;32min\u001b[0m \u001b[0muniquewords\u001b[0m\u001b[1;33m:\u001b[0m\u001b[1;33m\u001b[0m\u001b[1;33m\u001b[0m\u001b[0m\n\u001b[1;32m---> 15\u001b[1;33m         \u001b[0mcount\u001b[0m \u001b[1;33m=\u001b[0m \u001b[0mallwords\u001b[0m\u001b[1;33m.\u001b[0m\u001b[0mcount\u001b[0m\u001b[1;33m(\u001b[0m\u001b[0mword\u001b[0m\u001b[1;33m)\u001b[0m\u001b[1;33m\u001b[0m\u001b[1;33m\u001b[0m\u001b[0m\n\u001b[0m\u001b[0;32m     16\u001b[0m         \u001b[0mprint\u001b[0m\u001b[1;33m(\u001b[0m\u001b[0mword\u001b[0m\u001b[1;33m,\u001b[0m\u001b[1;34m':'\u001b[0m\u001b[1;33m,\u001b[0m\u001b[0mcount\u001b[0m\u001b[1;33m)\u001b[0m\u001b[1;33m\u001b[0m\u001b[1;33m\u001b[0m\u001b[0m\n\u001b[0;32m     17\u001b[0m \u001b[1;33m\u001b[0m\u001b[0m\n",
      "\u001b[1;31mNameError\u001b[0m: name 'allwords' is not defined"
     ]
    }
   ],
   "source": [
    "def freqDistributionWords(filepath):\n",
    "    # Dictionary to be used\n",
    "        # keys -> unique words\n",
    "        # values -> count of unique words\n",
    "        \n",
    "    # Two Lists\n",
    "        # Allwords list -\n",
    "        # Uniquewords list -\n",
    "    \n",
    "    # set \n",
    "    allwords = wordsFromFile(filepath)\n",
    "    uniquewords = uniqueData(filepath)\n",
    "    \n",
    "    for word in uniquewords:\n",
    "        count = allwords.count(word)\n",
    "        print(word,':',count)\n",
    "        \n",
    "    return\n",
    "\n",
    "freqDistributionWords(filepath)"
   ]
  },
  {
   "cell_type": "code",
   "execution_count": null,
   "metadata": {},
   "outputs": [],
   "source": []
  }
 ],
 "metadata": {
  "kernelspec": {
   "display_name": "Python 3",
   "language": "python",
   "name": "python3"
  },
  "language_info": {
   "codemirror_mode": {
    "name": "ipython",
    "version": 3
   },
   "file_extension": ".py",
   "mimetype": "text/x-python",
   "name": "python",
   "nbconvert_exporter": "python",
   "pygments_lexer": "ipython3",
   "version": "3.7.3"
  }
 },
 "nbformat": 4,
 "nbformat_minor": 2
}
