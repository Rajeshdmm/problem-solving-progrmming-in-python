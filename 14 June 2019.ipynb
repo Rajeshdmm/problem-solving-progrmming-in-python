{
 "cells": [
  {
   "cell_type": "markdown",
   "metadata": {},
   "source": [
    "### Problem Solving and Programming in Python-Day4\n",
    "\n"
   ]
  },
  {
   "cell_type": "code",
   "execution_count": null,
   "metadata": {},
   "outputs": [],
   "source": []
  },
  {
   "cell_type": "markdown",
   "metadata": {},
   "source": [
    "# Python Data Structures\n",
    "\n",
    "* **Lists**"
   ]
  },
  {
   "cell_type": "code",
   "execution_count": 26,
   "metadata": {},
   "outputs": [
    {
     "data": {
      "text/plain": [
       "456.0"
      ]
     },
     "execution_count": 26,
     "metadata": {},
     "output_type": "execute_result"
    }
   ],
   "source": [
    "li = [123,345,678]\n",
    "\n",
    "li # Access the entire list\n",
    "\n",
    "li[1] # Access an element with index ina list\n",
    "\n",
    "li[1:] # Access All elements from 2nd to last element\n",
    "\n",
    "li = li[::-1] # reversing list elements and reassing list elements\n",
    "\n",
    "li\n",
    "\n",
    "li = li[::-1]\n",
    "\n",
    "li[::2] # Accessing even index elements\n",
    "\n",
    "li[1::2] # Access\n",
    "\n",
    "# Lists can be accessed, manipulated in two different ways\n",
    "    # Direct Referencing - [index]\n",
    "    # Indirect Referencing - throuh functions\n",
    "    \n",
    "    \n",
    "li.append(345) # Adding an element to end of the list\n",
    "\n",
    "li.insert(1,234) # Adding an element at a particular\n",
    "\n",
    "li.sort() # sort elements in ascending order\n",
    "\n",
    "li.pop() # Remove the lasr element in a list\n",
    "\n",
    "li.pop(1) # Remove an element at a paticular index\n",
    "\n",
    "li2 = [234,456,789]\n",
    "\n",
    "\n",
    "li.extend(li2)# Merge list 2 into list 1\n",
    "\n",
    "\n",
    "sum(li) # sum of all elements in a list\n",
    "max(li) # Maximum element in a list\n",
    "len(li) # Number of element in a list\n",
    "\n",
    "sum(li)/len(li) # Average of list elements\n",
    "\n",
    "sum(li[1::2])/len(li[1::2]) # Average of all alternate elements\n",
    "\n",
    "\n",
    "\n"
   ]
  },
  {
   "cell_type": "code",
   "execution_count": 33,
   "metadata": {},
   "outputs": [
    {
     "data": {
      "text/plain": [
       "234"
      ]
     },
     "execution_count": 33,
     "metadata": {},
     "output_type": "execute_result"
    }
   ],
   "source": [
    "# FUnction to identify the 2nd largest element in a list\n",
    "    # Sort the data and select the 2nd last element \n",
    "    # Sort data in reverse order, and select the second element \n",
    "\n",
    "def secondlargest(li):\n",
    "    li.sort()\n",
    "    return li[-2]\n",
    "\n",
    "\n",
    "secondlargest(li)\n",
    "    \n",
    "    \n",
    "# Function that returns the nth largest\n",
    "\n",
    "def genericlargest(li,n):\n",
    "    li.sort()\n",
    "    return li[-n]\n",
    "\n",
    "genericlargest(li,5)\n"
   ]
  },
  {
   "cell_type": "code",
   "execution_count": 40,
   "metadata": {},
   "outputs": [
    {
     "ename": "IndentationError",
     "evalue": "expected an indented block (<ipython-input-40-8c5e4c615804>, line 19)",
     "output_type": "error",
     "traceback": [
      "\u001b[1;36m  File \u001b[1;32m\"<ipython-input-40-8c5e4c615804>\"\u001b[1;36m, line \u001b[1;32m19\u001b[0m\n\u001b[1;33m    linearsearch2(li,234)\u001b[0m\n\u001b[1;37m                         ^\u001b[0m\n\u001b[1;31mIndentationError\u001b[0m\u001b[1;31m:\u001b[0m expected an indented block\n"
     ]
    }
   ],
   "source": [
    "# Function to search for data in a list\n",
    "# search for the keey in the list and return the index of the key. Return\n",
    "def linearsearch(li,key):\n",
    "    for index in range (0,len(li)):\n",
    "        if li[index] == key:\n",
    "            return index + 1\n",
    "    return -1\n",
    "\n",
    "def linearsearch2(li,key):\n",
    "    for element in li:\n",
    "        if element == key:\n",
    "            return li.index(element)\n",
    "    return -1\n",
    "\n",
    "def linearsearch3(li,key):\n",
    "    for element in li:\n",
    "        if element == key:\n",
    "            return li.index(element)\n",
    "        return \n",
    "\n",
    "linearsearch(li,234)\n",
    "        "
   ]
  },
  {
   "cell_type": "code",
   "execution_count": null,
   "metadata": {},
   "outputs": [],
   "source": [
    "##### Function to count the occurences of a character in a string\n",
    "# \"Python Programming\", m -> 2\n",
    "\n",
    "def countcharoccurances(s,c):\n",
    "    count = 0\n",
    "    for ch in string: \n",
    "        if ch == c:\n",
    "            count +=1\n",
    "    return count\n",
    "\n",
    "def countcharoccurances2(s,c):\n",
    "    return s.count(c)\n",
    "countcharoccurances2(\"python Programming\",'Py')\n",
    "\n",
    "\n",
    "# Function to find the number of occurances of a subs\n",
    "#\"abcabcddcba\",\"ab\" -> 2\n",
    "\n",
    "    \n",
    "    \n",
    "\n"
   ]
  },
  {
   "cell_type": "code",
   "execution_count": null,
   "metadata": {},
   "outputs": [],
   "source": [
    "s = \"1 2 3 4 5 6\"\n",
    "li = s.split()\n",
    "numberlist = []\n",
    "for i in li:"
   ]
  }
 ],
 "metadata": {
  "kernelspec": {
   "display_name": "Python 3",
   "language": "python",
   "name": "python3"
  },
  "language_info": {
   "codemirror_mode": {
    "name": "ipython",
    "version": 3
   },
   "file_extension": ".py",
   "mimetype": "text/x-python",
   "name": "python",
   "nbconvert_exporter": "python",
   "pygments_lexer": "ipython3",
   "version": "3.7.3"
  }
 },
 "nbformat": 4,
 "nbformat_minor": 2
}
