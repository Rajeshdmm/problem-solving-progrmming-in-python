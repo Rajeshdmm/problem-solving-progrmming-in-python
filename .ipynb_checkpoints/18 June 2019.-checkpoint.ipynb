{
 "cells": [
  {
   "cell_type": "code",
   "execution_count": 2,
   "metadata": {},
   "outputs": [
    {
     "ename": "NameError",
     "evalue": "name 'n' is not defined",
     "output_type": "error",
     "traceback": [
      "\u001b[1;31m---------------------------------------------------------------------------\u001b[0m",
      "\u001b[1;31mNameError\u001b[0m                                 Traceback (most recent call last)",
      "\u001b[1;32m<ipython-input-2-ca9aede90037>\u001b[0m in \u001b[0;36m<module>\u001b[1;34m\u001b[0m\n\u001b[0;32m      1\u001b[0m \u001b[1;31m# cumulative sum\u001b[0m\u001b[1;33m\u001b[0m\u001b[1;33m\u001b[0m\u001b[1;33m\u001b[0m\u001b[0m\n\u001b[1;32m----> 2\u001b[1;33m \u001b[1;32mfor\u001b[0m \u001b[0mi\u001b[0m \u001b[1;32min\u001b[0m \u001b[0mrange\u001b[0m\u001b[1;33m(\u001b[0m\u001b[1;36m0\u001b[0m\u001b[1;33m,\u001b[0m\u001b[0mn\u001b[0m\u001b[1;33m[\u001b[0m\u001b[1;36m0\u001b[0m\u001b[1;33m]\u001b[0m\u001b[1;33m)\u001b[0m\u001b[1;33m:\u001b[0m\u001b[1;33m\u001b[0m\u001b[1;33m\u001b[0m\u001b[0m\n\u001b[0m\u001b[0;32m      3\u001b[0m     \u001b[1;32mif\u001b[0m \u001b[0mi\u001b[0m \u001b[1;33m==\u001b[0m \u001b[1;36m0\u001b[0m\u001b[1;33m:\u001b[0m\u001b[1;33m\u001b[0m\u001b[1;33m\u001b[0m\u001b[0m\n\u001b[0;32m      4\u001b[0m         \u001b[0msum\u001b[0m\u001b[1;33m.\u001b[0m\u001b[0mappend\u001b[0m\u001b[1;33m(\u001b[0m\u001b[0mint\u001b[0m\u001b[1;33m(\u001b[0m\u001b[0ma\u001b[0m\u001b[1;33m[\u001b[0m\u001b[0mi\u001b[0m\u001b[1;33m]\u001b[0m\u001b[1;33m)\u001b[0m\u001b[1;33m)\u001b[0m\u001b[1;33m\u001b[0m\u001b[1;33m\u001b[0m\u001b[0m\n\u001b[0;32m      5\u001b[0m     \u001b[1;32melse\u001b[0m\u001b[1;33m:\u001b[0m\u001b[1;33m\u001b[0m\u001b[1;33m\u001b[0m\u001b[0m\n",
      "\u001b[1;31mNameError\u001b[0m: name 'n' is not defined"
     ]
    }
   ],
   "source": [
    "# cumulative sum\n",
    "for i in range(0,n[0]):\n",
    "    if i == 0:\n",
    "        sum.append(int(a[i]))\n",
    "    else:\n",
    "        sum.append(int(sum[i-1])) + int(a[i])\n",
    "\n",
    "\n",
    "del a\n",
    "\n",
    "# Read each query and calculate the average\n",
    "\n",
    "for i in range(0,n[1]):\n",
    "    inq = input ().split()\n",
    "    i = int(inq[0])\n",
    "    j = int(inq[1])\n",
    "    if i > 1:\n",
    "        print((sum[j-1] - sum[i-2]) // (j-i+1))\n",
    "    else:\n",
    "        print(sum[j-1] // (j-i+1))\n",
    "        \n",
    "    "
   ]
  },
  {
   "cell_type": "code",
   "execution_count": null,
   "metadata": {},
   "outputs": [],
   "source": [
    "# Function to determine if a number is equal\n",
    "\n",
    "def isspecialnumber(n,p):\n",
    "    if numberofprimefactors(n) >= p:\n",
    "        return True\n",
    "    return False\n",
    "    \n",
    "\n",
    "# Function to check if number is prime\n",
    "def isprime(n):\n",
    "    flag = 1\n",
    "    if n == 2:\n",
    "        return True\n",
    "    for i in range(2,n//2 + 1):\n",
    "        if n % i == 0:\n",
    "            flag = 0\n",
    "            return False\n",
    "    if flag == 1:\n",
    "        return True\n",
    "    \n",
    "    \n",
    "isprime(100)\n",
    "    \n",
    "\n",
    "# Function to determine number of prime factors for a given number.\n",
    "\n",
    "def numberofprimefactors(n):\n",
    "    if isprime(n):\n",
    "        return 1\n",
    "    count = 0\n",
    "    for i in range(2,n//2 + 1):\n",
    "        if isprime(i) and n % i == 0:\n",
    "            count += 1\n",
    "    return count\n",
    "\n",
    "\n",
    "\n",
    "def solution2():\n",
    "    p = int(input())\n",
    "    t = int(input())\n",
    "    for i in range(0,t):\n",
    "        n = int(input())\n",
    "        if isspecialnumber(n,p):\n",
    "            print(\"Yes\")\n",
    "        else:\n",
    "            print(\"No\")\n",
    "isspecialnumber(30,2)"
   ]
  },
  {
   "cell_type": "code",
   "execution_count": null,
   "metadata": {},
   "outputs": [],
   "source": [
    "def highestremainder(n):\n",
    "    hr = 0\n",
    "    v = n\n",
    "    for i in range(n-1,n // 2 + 1)\n",
    "        r = n % i\n",
    "        if r > hr:\n",
    "            hr = r\n",
    "            v = i\n",
    "    print(v)\n",
    "    return\n",
    "\n",
    "highestremainder(5)"
   ]
  },
  {
   "cell_type": "code",
   "execution_count": null,
   "metadata": {},
   "outputs": [],
   "source": []
  },
  {
   "cell_type": "markdown",
   "metadata": {},
   "source": [
    "### Tuples\n",
    "t1 = ()\n",
    "li = []\n",
    "\n",
    "Difference b/w lists and Tuples\n",
    "\n",
    "lists are mutable - can be changed or modified\n",
    "\n",
    "- Used to Access, Modify, add delete data\n",
    "\n",
    "Tuples are immutable - cannot be changed once initialised\n",
    "\n",
    "- Used to access data only\n",
    "- All slicing work"
   ]
  },
  {
   "cell_type": "code",
   "execution_count": 5,
   "metadata": {},
   "outputs": [
    {
     "data": {
      "text/plain": [
       "(8, 6, 0)"
      ]
     },
     "execution_count": 5,
     "metadata": {},
     "output_type": "execute_result"
    }
   ],
   "source": [
    "t1 = (1, 2, 8, 6, 0)\n",
    "\n",
    "t1[3] # Accessing the 4th element\n",
    "\n",
    "t1[len(t1)//2:] # Accessing all elements from middle to last"
   ]
  },
  {
   "cell_type": "code",
   "execution_count": 6,
   "metadata": {},
   "outputs": [
    {
     "data": {
      "text/plain": [
       "tuple"
      ]
     },
     "execution_count": 6,
     "metadata": {},
     "output_type": "execute_result"
    }
   ],
   "source": [
    "type(t1)"
   ]
  },
  {
   "cell_type": "code",
   "execution_count": null,
   "metadata": {},
   "outputs": [],
   "source": []
  },
  {
   "cell_type": "markdown",
   "metadata": {},
   "source": [
    "### Dictionaries\n",
    "\n",
    "It works on the concept of set\n",
    "\n",
    "Unique Data\n",
    "\n",
    "\n",
    "keys, values\n",
    "\n",
    "key is the unique identifier for  value\n",
    "\n",
    "value is data that can be accessed with a key\n"
   ]
  },
  {
   "cell_type": "code",
   "execution_count": 17,
   "metadata": {},
   "outputs": [
    {
     "data": {
      "text/plain": [
       "True"
      ]
     },
     "execution_count": 17,
     "metadata": {},
     "output_type": "execute_result"
    }
   ],
   "source": [
    "d1 = {\"k1\":\"value1\",\"k2\":\"value2\"}\n",
    "\n",
    "d1[\"k2\"] # Accessing the value with key \"k2\"\n",
    "d1.keys() # returns list of all keys\n",
    "d1.values() # returns list of all values\n",
    "d1.items() # returns list of tuples of keys and values\n",
    "d1[\"k3\"] = \"value3\" # Adding an element to the dictionary\n",
    "\n",
    "d1[\"k3\"] = \"value4\" # Updating an element\n",
    "d1.pop(\"k3\") # Removing an element\n",
    "\"k1\" in d1\n"
   ]
  },
  {
   "cell_type": "markdown",
   "metadata": {},
   "source": [
    "# Contacts Application\n",
    "- Add Contact\n",
    "- Search Contact\n",
    "- List all Contacts\n",
    "    - name1 : phone1\n",
    "    - name2 : phone2\n",
    "- Modify Contact\n",
    "- Remove Contact\n",
    "- Import Contacts\n",
    "\n"
   ]
  },
  {
   "cell_type": "code",
   "execution_count": 31,
   "metadata": {},
   "outputs": [
    {
     "name": "stdout",
     "output_type": "stream",
     "text": [
      "{'name1': '1234567890'}\n"
     ]
    }
   ],
   "source": [
    "contacts = {}\n",
    "\n",
    "def addcontact(name, phone):\n",
    "    #verify the contact doesnot already exist\n",
    "    \n",
    "    if name not in contacts:\n",
    "        contacts[name] = phone\n",
    "        print(contacts)\n",
    "    else:\n",
    "        print(\"contact %s already exists\" % name)\n",
    "    return\n",
    "\n",
    "addcontact(\"name1\", \"1234567890\")"
   ]
  },
  {
   "cell_type": "code",
   "execution_count": 32,
   "metadata": {},
   "outputs": [
    {
     "name": "stdout",
     "output_type": "stream",
     "text": [
      "name10 does not exist\n"
     ]
    }
   ],
   "source": [
    "def searchcontacts(name):\n",
    "    if name in contacts:\n",
    "        print(name,\":\",contacts[name])\n",
    "    else:\n",
    "        print(\"%s does not exist\" % name)\n",
    "    return\n",
    "\n",
    "searchcontacts(\"name10\")"
   ]
  },
  {
   "cell_type": "code",
   "execution_count": 39,
   "metadata": {},
   "outputs": [
    {
     "name": "stdout",
     "output_type": "stream",
     "text": [
      "name1 : 1234567890\n"
     ]
    }
   ],
   "source": [
    "def listallcontacts():\n",
    "    for x,y in contacts.items():\n",
    "        print(x,\":\",y)\n",
    "    return\n",
    "listallcontacts()"
   ]
  },
  {
   "cell_type": "code",
   "execution_count": 40,
   "metadata": {},
   "outputs": [
    {
     "name": "stdout",
     "output_type": "stream",
     "text": [
      "{'name1': 9000627745}\n"
     ]
    }
   ],
   "source": [
    "def modifycontacts(name,number):\n",
    "    contacts.update({name:number})\n",
    "    print(contacts)\n",
    "    \n",
    "modifycontacts(\"name1\",9000627745)\n",
    "    "
   ]
  },
  {
   "cell_type": "code",
   "execution_count": 27,
   "metadata": {},
   "outputs": [
    {
     "ename": "NameError",
     "evalue": "name 'contact' is not defined",
     "output_type": "error",
     "traceback": [
      "\u001b[1;31m---------------------------------------------------------------------------\u001b[0m",
      "\u001b[1;31mNameError\u001b[0m                                 Traceback (most recent call last)",
      "\u001b[1;32m<ipython-input-27-3905c575f857>\u001b[0m in \u001b[0;36m<module>\u001b[1;34m\u001b[0m\n\u001b[0;32m      4\u001b[0m     \u001b[0mprint\u001b[0m\u001b[1;33m(\u001b[0m\u001b[1;34m\"contact deleted %s\"\u001b[0m\u001b[1;33m%\u001b[0m\u001b[0mname\u001b[0m\u001b[1;33m)\u001b[0m\u001b[1;33m\u001b[0m\u001b[1;33m\u001b[0m\u001b[0m\n\u001b[0;32m      5\u001b[0m \u001b[1;33m\u001b[0m\u001b[0m\n\u001b[1;32m----> 6\u001b[1;33m \u001b[0mremovecontact\u001b[0m\u001b[1;33m(\u001b[0m\u001b[1;34m\"name1\"\u001b[0m\u001b[1;33m)\u001b[0m\u001b[1;33m\u001b[0m\u001b[1;33m\u001b[0m\u001b[0m\n\u001b[0m",
      "\u001b[1;32m<ipython-input-27-3905c575f857>\u001b[0m in \u001b[0;36mremovecontact\u001b[1;34m(name)\u001b[0m\n\u001b[0;32m      1\u001b[0m \u001b[1;32mdef\u001b[0m \u001b[0mremovecontact\u001b[0m\u001b[1;33m(\u001b[0m\u001b[0mname\u001b[0m\u001b[1;33m)\u001b[0m\u001b[1;33m:\u001b[0m\u001b[1;33m\u001b[0m\u001b[1;33m\u001b[0m\u001b[0m\n\u001b[1;32m----> 2\u001b[1;33m     \u001b[1;32mif\u001b[0m \u001b[0mname\u001b[0m \u001b[1;32min\u001b[0m \u001b[0mcontact\u001b[0m\u001b[1;33m:\u001b[0m\u001b[1;33m\u001b[0m\u001b[1;33m\u001b[0m\u001b[0m\n\u001b[0m\u001b[0;32m      3\u001b[0m         \u001b[0mcontact\u001b[0m\u001b[1;33m.\u001b[0m\u001b[0mpop\u001b[0m\u001b[1;33m(\u001b[0m\u001b[1;34m\"name\"\u001b[0m\u001b[1;33m)\u001b[0m\u001b[1;33m\u001b[0m\u001b[1;33m\u001b[0m\u001b[0m\n\u001b[0;32m      4\u001b[0m     \u001b[0mprint\u001b[0m\u001b[1;33m(\u001b[0m\u001b[1;34m\"contact deleted %s\"\u001b[0m\u001b[1;33m%\u001b[0m\u001b[0mname\u001b[0m\u001b[1;33m)\u001b[0m\u001b[1;33m\u001b[0m\u001b[1;33m\u001b[0m\u001b[0m\n\u001b[0;32m      5\u001b[0m \u001b[1;33m\u001b[0m\u001b[0m\n",
      "\u001b[1;31mNameError\u001b[0m: name 'contact' is not defined"
     ]
    }
   ],
   "source": [
    "def removecontact(name):\n",
    "    if name in contact:\n",
    "        contact.pop(\"name\")\n",
    "    print(\"contact deleted %s\"%name)\n",
    "    \n",
    "removecontact(\"name1\")"
   ]
  },
  {
   "cell_type": "code",
   "execution_count": 37,
   "metadata": {},
   "outputs": [
    {
     "ename": "SyntaxError",
     "evalue": "invalid syntax (<ipython-input-37-40e4b3773f1e>, line 6)",
     "output_type": "error",
     "traceback": [
      "\u001b[1;36m  File \u001b[1;32m\"<ipython-input-37-40e4b3773f1e>\"\u001b[1;36m, line \u001b[1;32m6\u001b[0m\n\u001b[1;33m    return\u001b[0m\n\u001b[1;37m         ^\u001b[0m\n\u001b[1;31mSyntaxError\u001b[0m\u001b[1;31m:\u001b[0m invalid syntax\n"
     ]
    }
   ],
   "source": [
    "# New Contacts is given as a dictionary\n",
    "# Merge new contacts with existing contacts\n",
    "def iportcontacts(newcontacts):\n",
    "    contacts.update(newcontacts)\n",
    "    print(len(newcontacts.keys()),\"contactsadded\"\n",
    "          return\n",
    "          \n",
    "newcontacts = {\"name2\":9000627745,\"name3\":9000617795}\n",
    "          "
   ]
  },
  {
   "cell_type": "markdown",
   "metadata": {},
   "source": [
    "### Packages and Modules\n",
    "\n",
    "\n",
    "**Package** -> Collection of mOdules(Python File .py) an subpackeges\n",
    "\n",
    "**Subpackage** ->\n",
    "\n",
    "\n",
    "**Module** -> A single Python file containing functions\n",
    "\n",
    "package -> subpackages -> Modules -> Functions"
   ]
  },
  {
   "cell_type": "code",
   "execution_count": 59,
   "metadata": {},
   "outputs": [
    {
     "data": {
      "text/plain": [
       "123"
      ]
     },
     "execution_count": 59,
     "metadata": {},
     "output_type": "execute_result"
    }
   ],
   "source": [
    "from math import floor as fl\n",
    "\n",
    "fl(123.456)\n"
   ]
  },
  {
   "cell_type": "code",
   "execution_count": 69,
   "metadata": {},
   "outputs": [
    {
     "name": "stdout",
     "output_type": "stream",
     "text": [
      "82 8 61 55 28 59 3 72 "
     ]
    }
   ],
   "source": [
    "# Function to generate N random numbers\n",
    "\n",
    "import random \n",
    "\n",
    "def generatenrandomnumbers(n,lb,ub):\n",
    "    for i in range(0,n):\n",
    "        print(random.randint(lb,ub), end=\" \")\n",
    "        \n",
    "        \n",
    "\n",
    "generatenrandomnumbers(8,0,100)        \n",
    "    "
   ]
  },
  {
   "cell_type": "code",
   "execution_count": 4,
   "metadata": {},
   "outputs": [
    {
     "name": "stdout",
     "output_type": "stream",
     "text": [
      "1 2 3 5 6 9 10 15 18 30 45 "
     ]
    }
   ],
   "source": [
    "def factors(num):\n",
    "    for i in range(1,num):\n",
    "        if num % i ==0:\n",
    "            print(i,end=\" \")\n",
    "            \n",
    "factors(90)\n"
   ]
  },
  {
   "cell_type": "code",
   "execution_count": 20,
   "metadata": {},
   "outputs": [
    {
     "name": "stdout",
     "output_type": "stream",
     "text": [
      "NO\n"
     ]
    }
   ],
   "source": [
    "def factors(n):\n",
    "    sum=0\n",
    "    for a in range(1,n):\n",
    "        if n % a ==0:\n",
    "            #print(a,end=\" \")\n",
    "            n == sum+a\n",
    "    if n == sum:\n",
    "        print(\"YES\")\n",
    "    else:\n",
    "        print(\"NO\")\n",
    "            \n",
    "factors(45)"
   ]
  },
  {
   "cell_type": "code",
   "execution_count": null,
   "metadata": {},
   "outputs": [],
   "source": []
  }
 ],
 "metadata": {
  "kernelspec": {
   "display_name": "Python 3",
   "language": "python",
   "name": "python3"
  },
  "language_info": {
   "codemirror_mode": {
    "name": "ipython",
    "version": 3
   },
   "file_extension": ".py",
   "mimetype": "text/x-python",
   "name": "python",
   "nbconvert_exporter": "python",
   "pygments_lexer": "ipython3",
   "version": "3.7.3"
  }
 },
 "nbformat": 4,
 "nbformat_minor": 2
}
