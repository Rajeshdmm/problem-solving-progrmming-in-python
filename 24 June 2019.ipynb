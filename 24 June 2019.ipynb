{
 "cells": [
  {
   "cell_type": "code",
   "execution_count": null,
   "metadata": {},
   "outputs": [],
   "source": [
    "# Contacts Application\n",
    "    # Add, Search, List, Modify Delete Contacts\n",
    "    \n",
    "# Fibd And Replace Application\n",
    "    # Count the total number of occurence of a  \n",
    "    # if word is existing\n",
    "    # Replace all occurences of a word with another word\n",
    "    \n",
    "# Marks Analysis Application\n",
    "    # Generate the marks file for n students\n",
    "    # Input : Marks text file - each line contains\n",
    "    # Generate a report with the following information\n",
    "         # Class Average \n",
    "        # % of students passed\n",
    "        # % of failed students\n",
    "        # % of students with distinction"
   ]
  },
  {
   "cell_type": "code",
   "execution_count": 6,
   "metadata": {},
   "outputs": [],
   "source": [
    "# Function to generate marks data for n students\n",
    "\n",
    "from random import randint\n",
    "\n",
    "def generateMarks(n,lb,ub):\n",
    "    with open('Data Files/marks.txt','w') as f:\n",
    "        for i in range(0,n):\n",
    "            r = randint(lb,ub)\n",
    "            f.write(str(r)+'\\n')\n",
    "    return\n",
    "\n",
    "generateMarks(10,0,7000)\n",
    "    "
   ]
  },
  {
   "cell_type": "code",
   "execution_count": 11,
   "metadata": {},
   "outputs": [
    {
     "name": "stdout",
     "output_type": "stream",
     "text": [
      "6\n"
     ]
    }
   ],
   "source": [
    "def sumofdigits(i, j, k):\n",
    "    sum = 0\n",
    "    for a in i,j,k:\n",
    "        sum = i+j+k \n",
    "    print(sum)\n",
    "        \n",
    "sumofdigits(1, 2, 3)\n",
    "        "
   ]
  },
  {
   "cell_type": "code",
   "execution_count": null,
   "metadata": {},
   "outputs": [],
   "source": []
  }
 ],
 "metadata": {
  "kernelspec": {
   "display_name": "Python 3",
   "language": "python",
   "name": "python3"
  },
  "language_info": {
   "codemirror_mode": {
    "name": "ipython",
    "version": 3
   },
   "file_extension": ".py",
   "mimetype": "text/x-python",
   "name": "python",
   "nbconvert_exporter": "python",
   "pygments_lexer": "ipython3",
   "version": "3.7.3"
  }
 },
 "nbformat": 4,
 "nbformat_minor": 2
}
