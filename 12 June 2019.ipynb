{
 "cells": [
  {
   "cell_type": "markdown",
   "metadata": {},
   "source": [
    "# Problem Solving and Programming\n",
    "\n",
    "### 12 June 2019\n",
    "\n",
    "### Day Objectives\n",
    "\n",
    "- String Slicing \n",
    "- Functions in Python\n",
    "- Basic Problems related to conditional statements using functions\n",
    "- Iteration in Python\n",
    "- Python Data Structures- Lists, Tuples and Dictionaries\n",
    "- Basic Operations on data structures\n",
    "- Applying Data Structures to solve problems\n"
   ]
  },
  {
   "cell_type": "code",
   "execution_count": null,
   "metadata": {},
   "outputs": [],
   "source": []
  },
  {
   "cell_type": "markdown",
   "metadata": {},
   "source": [
    "# String Slicing"
   ]
  },
  {
   "cell_type": "code",
   "execution_count": 32,
   "metadata": {},
   "outputs": [
    {
     "data": {
      "text/plain": [
       "'h'"
      ]
     },
     "execution_count": 32,
     "metadata": {},
     "output_type": "execute_result"
    }
   ],
   "source": [
    "s1 = \"Python1\"\n",
    "\n",
    "s1[0] # Accessing the 1st character in a string\n",
    "\n",
    "s1[1] # Accessing the 2nd character in a string\n",
    "\n",
    "s1[-1] or s1[len(s1)-1] # Accessing the last character in a string\n",
    "\n",
    "s1[-2] # Accessing the penultimate character of a string\n",
    "\n",
    "s1[0:2] # Accessing the 1st two character in a string\n",
    "\n",
    "s1[-2:] # Accessing the Last two character in a string\n",
    "\n",
    "s1[4:] # Accessing all characters from 5th charater to end of string\n",
    "\n",
    "s1[1:-1] # Accessing all characters except 1st and last charater\n",
    "\n",
    "s1[len(s1)//2] # Accessing the middle character in an odd string\n",
    "\n"
   ]
  },
  {
   "cell_type": "code",
   "execution_count": null,
   "metadata": {},
   "outputs": [],
   "source": []
  }
 ],
 "metadata": {
  "kernelspec": {
   "display_name": "Python 3",
   "language": "python",
   "name": "python3"
  },
  "language_info": {
   "codemirror_mode": {
    "name": "ipython",
    "version": 3
   },
   "file_extension": ".py",
   "mimetype": "text/x-python",
   "name": "python",
   "nbconvert_exporter": "python",
   "pygments_lexer": "ipython3",
   "version": "3.7.3"
  }
 },
 "nbformat": 4,
 "nbformat_minor": 2
}
