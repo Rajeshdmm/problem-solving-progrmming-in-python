{
 "cells": [
  {
   "cell_type": "markdown",
   "metadata": {},
   "source": [
    "# Problem Solving and Programming\n",
    "\n",
    "### 12 June 2019\n",
    "\n",
    "### Day Objectives\n",
    "\n",
    "- String Slicing \n",
    "- Functions in Python\n",
    "- Basic Problems related to conditional statements using functions\n",
    "- Iteration in Python\n",
    "- Python Data Structures- Lists, Tuples and Dictionaries\n",
    "- Basic Operations on data structures\n",
    "- Applying Data Structures to solve problems\n"
   ]
  },
  {
   "cell_type": "code",
   "execution_count": null,
   "metadata": {},
   "outputs": [],
   "source": []
  },
  {
   "cell_type": "markdown",
   "metadata": {},
   "source": [
    "# String Slicing"
   ]
  },
  {
   "cell_type": "code",
   "execution_count": 59,
   "metadata": {},
   "outputs": [
    {
     "data": {
      "text/plain": [
       "'nhy'"
      ]
     },
     "execution_count": 59,
     "metadata": {},
     "output_type": "execute_result"
    }
   ],
   "source": [
    "s1 = \"Python\"\n",
    "\n",
    "s1[0] # Accessing the 1st character in a string\n",
    "\n",
    "s1[1] # Accessing the 2nd character in a string\n",
    "\n",
    "s1[-1] or s1[len(s1)-1] # Accessing the last character in a string\n",
    "\n",
    "s1[-2] # Accessing the penultimate character of a string\n",
    "\n",
    "s1[0:2] # Accessing the 1st two character in a string\n",
    "\n",
    "s1[-2:] # Accessing the Last two character in a string\n",
    "\n",
    "s1[4:] # Accessing all characters from 5th charater to end of string\n",
    "\n",
    "s1[1:-1] # Accessing all characters except 1st and last charater\n",
    "\n",
    "s1[len(s1)//2] # Accessing the middle character in an odd string\n",
    "\n",
    "s1[-1::-1] # Reverse of a string\n",
    "\n",
    "s1[-1:-3:-1] # Accessing last two charaters strings in reverse order\n",
    "\n",
    "s1[len(s1)//2:len(s1)//2] # Reverse the middle two charaters in an even length \n",
    "\n",
    "s1[0::2] # Accessing alternate charaters in a string\n",
    "# \"Python\" -> \"pto\"\n",
    "\n",
    "s1[-1::-2] # Accessing alternate charaters of a string in reverse \n",
    "# \"Python\" -> \"nhy\"\n"
   ]
  },
  {
   "cell_type": "code",
   "execution_count": null,
   "metadata": {},
   "outputs": [],
   "source": []
  },
  {
   "cell_type": "markdown",
   "metadata": {},
   "source": [
    "# Functions"
   ]
  },
  {
   "cell_type": "code",
   "execution_count": 61,
   "metadata": {},
   "outputs": [
    {
     "data": {
      "text/plain": [
       "'nohtyP'"
      ]
     },
     "execution_count": 61,
     "metadata": {},
     "output_type": "execute_result"
    }
   ],
   "source": [
    "#Function to reverse a string\n",
    "def reversestring(s):\n",
    "    return s[::-1]\n",
    "\n",
    "reversestring(\"Python\")"
   ]
  },
  {
   "cell_type": "code",
   "execution_count": 67,
   "metadata": {},
   "outputs": [
    {
     "data": {
      "text/plain": [
       "False"
      ]
     },
     "execution_count": 67,
     "metadata": {},
     "output_type": "execute_result"
    }
   ],
   "source": [
    "#Fuction to check if a string is a palindrome\n",
    "def palindrome(s):\n",
    "    if s == s[::-1]:\n",
    "        return True\n",
    "    else:\n",
    "        return False\n",
    "    \n",
    "palindrome(\"Raja\")"
   ]
  },
  {
   "cell_type": "code",
   "execution_count": 75,
   "metadata": {},
   "outputs": [
    {
     "data": {
      "text/plain": [
       "True"
      ]
     },
     "execution_count": 75,
     "metadata": {},
     "output_type": "execute_result"
    }
   ],
   "source": [
    "#FUnction to check if a given year is a leap year\n",
    "def isleapyear(year):\n",
    "    if year % 400 == 0 or (year % 100 != 0 and year % 4 == 0):\n",
    "        return True\n",
    "    return False\n",
    "\n",
    "isleapyear(2016)"
   ]
  },
  {
   "cell_type": "code",
   "execution_count": 77,
   "metadata": {},
   "outputs": [
    {
     "data": {
      "text/plain": [
       "4"
      ]
     },
     "execution_count": 77,
     "metadata": {},
     "output_type": "execute_result"
    }
   ],
   "source": [
    "#Function to Count the number of digits in a given number \n",
    "def digits(n):\n",
    "    return len(str(n))\n",
    "\n",
    "digits(1234)\n",
    "    "
   ]
  },
  {
   "cell_type": "code",
   "execution_count": 80,
   "metadata": {},
   "outputs": [
    {
     "data": {
      "text/plain": [
       "289"
      ]
     },
     "execution_count": 80,
     "metadata": {},
     "output_type": "execute_result"
    }
   ],
   "source": [
    "#Function to identfy the greatest of 4 numbers\n",
    "def greatest(a,b,c,d):\n",
    "    if a>b and a>c and a>d:\n",
    "        return a\n",
    "    elif b>c and b>d:\n",
    "        return b\n",
    "    elif c>d:\n",
    "        return c\n",
    "    else:\n",
    "        return d\n",
    "    \n",
    "greatest(23,45,3,289)\n",
    "\n",
    "def greatest(a,b,c,d):\n",
    "    if a>b and"
   ]
  },
  {
   "cell_type": "code",
   "execution_count": null,
   "metadata": {},
   "outputs": [],
   "source": []
  },
  {
   "cell_type": "markdown",
   "metadata": {},
   "source": [
    "### Iteration\n",
    "* **for**\n",
    "* **While**"
   ]
  },
  {
   "cell_type": "code",
   "execution_count": 86,
   "metadata": {},
   "outputs": [
    {
     "name": "stdout",
     "output_type": "stream",
     "text": [
      "1 2 3 4 5 6 7 8 9 10 11 12 13 14 15 16 17 18 19 20 21 22 23 24 25 26 27 28 29 30 \n",
      "1 2 3 4 5 6 7 8 9 10 11 12 \n"
     ]
    }
   ],
   "source": [
    "# Fuction to print n natural numbers\n",
    "\n",
    "def printNNaturalNumbers(n):\n",
    "    for counter in range(1,n+1):\n",
    "        print(counter, end=\" \")\n",
    "    print()\n",
    "    return\n",
    "\n",
    "printNNaturalNumbers(30)\n",
    "printNNaturalNumbers(12)"
   ]
  },
  {
   "cell_type": "code",
   "execution_count": 88,
   "metadata": {},
   "outputs": [
    {
     "name": "stdout",
     "output_type": "stream",
     "text": [
      "1 2 3 4 5 6 7 8 9 10 11 12 13 14 15 16 17 18 19 20 21 22 23 24 25 26 27 28 29 30 31 32 33 34 "
     ]
    }
   ],
   "source": [
    "# Function to print N Natural numbers using a while loop\n",
    "\n",
    "def nNaturalNumbers(n):\n",
    "    counter = 1\n",
    "    while counter <= n:\n",
    "        print(counter,end = \" \")\n",
    "        counter = counter + 1\n",
    "    return\n",
    "\n",
    "nNaturalNumbers(34)\n",
    "        "
   ]
  },
  {
   "cell_type": "code",
   "execution_count": 8,
   "metadata": {},
   "outputs": [
    {
     "name": "stdout",
     "output_type": "stream",
     "text": [
      "500 504 508 512 516 520 524 "
     ]
    }
   ],
   "source": [
    "# Function to print the alternate vales in a range in the same line\n",
    "# [500,550] -> 500 502 504 ......... 550\n",
    "# (500,550) -> 501 503 505 ......... 549\n",
    "# range(500,550) -> 500 501 502 ...... 549\n",
    "# All set based functions in python have start value inclusive and last value is exlusive\n",
    "\n",
    "def alternateValues(start, end):\n",
    "    for value in range(start, end+1, 4):\n",
    "        print(value, end=\" \")\n",
    "    return\n",
    "\n",
    "alternateValues(500, 525)\n"
   ]
  },
  {
   "cell_type": "code",
   "execution_count": 12,
   "metadata": {},
   "outputs": [
    {
     "name": "stdout",
     "output_type": "stream",
     "text": [
      "10 9 8 7 6 5 4 3 2 1 "
     ]
    }
   ],
   "source": [
    "# Function to reverse of given range of a same line\n",
    "\n",
    "def reverseRange(start, end):\n",
    "    for Value in range(end, start-1,-1):\n",
    "        print(Value, end=\" \")\n",
    "    return\n",
    "\n",
    "reverseRange(1, 10)"
   ]
  },
  {
   "cell_type": "code",
   "execution_count": 30,
   "metadata": {},
   "outputs": [
    {
     "name": "stdout",
     "output_type": "stream",
     "text": [
      "199 197 195 193 191 189 187 185 183 181 179 177 175 173 171 169 167 165 163 161 159 157 155 153 151 149 147 145 143 141 139 137 135 133 131 129 127 125 123 121 119 117 115 113 111 109 107 105 103 101 "
     ]
    }
   ],
   "source": [
    "# Function to print the odd numbers in reverse order in a range\n",
    "\n",
    "def oddnum(start,end):\n",
    "    for n in range(end,start-1,-1):\n",
    "        if n % 2 != 0:\n",
    "            print(n,end=\" \")\n",
    "    return\n",
    "    \n",
    "oddnum(100,200)"
   ]
  },
  {
   "cell_type": "code",
   "execution_count": 19,
   "metadata": {},
   "outputs": [
    {
     "data": {
      "text/plain": [
       "15150"
      ]
     },
     "execution_count": 19,
     "metadata": {},
     "output_type": "execute_result"
    }
   ],
   "source": [
    "# Function to calculate the sum of number in  a range\n",
    "\n",
    "def sumRange(start,end):\n",
    "    sum = 0\n",
    "    for n in range(start,end+1):\n",
    "        sum = sum + n\n",
    "    return sum\n",
    "\n",
    "\n",
    "sumRange(100,200)\n"
   ]
  },
  {
   "cell_type": "code",
   "execution_count": 28,
   "metadata": {},
   "outputs": [
    {
     "data": {
      "text/plain": [
       "6.0"
      ]
     },
     "execution_count": 28,
     "metadata": {},
     "output_type": "execute_result"
    }
   ],
   "source": [
    "# function to calculate the average of given range\n",
    "\n",
    "def avgRange(start,end):\n",
    "    sum = 0\n",
    "    a = 0\n",
    "    for n in range(start,end+1):\n",
    "        sum = sum + n\n",
    "        a = sum / n\n",
    "    return a\n",
    "\n",
    "\n",
    "avgRange(1,5)\n",
    "\n",
    "def avgRange(lb,ub):\n",
    "    sum = 0\n",
    "    count = 0\n",
    "    for i in range(lb,ub+1):\n",
    "        sum = sum + i\n",
    "        count = sum / i\n",
    "    return count\n",
    "\n",
    "avgRange(1,11)"
   ]
  },
  {
   "cell_type": "code",
   "execution_count": 42,
   "metadata": {
    "scrolled": true
   },
   "outputs": [
    {
     "name": "stdout",
     "output_type": "stream",
     "text": [
      "2000 2004 2008 2012 2016 2020 "
     ]
    }
   ],
   "source": [
    "# Function to generate the leap years in a given time period. (2000 - 2020) -> \n",
    "\n",
    "def isleapyear(year):\n",
    "        if year % 400 == 0 or (year % 4 == 0 and year % 100 != 0):\n",
    "            return True\n",
    "        return False\n",
    "        \n",
    "def leapgen(lb,ub):\n",
    "    for year in range(lb,ub+1):\n",
    "        if isleapyear(year):\n",
    "            print(year,end=\" \")\n",
    "    return\n",
    "        \n",
    "\n",
    "leapgen(2000,2020)"
   ]
  },
  {
   "cell_type": "code",
   "execution_count": 53,
   "metadata": {},
   "outputs": [
    {
     "data": {
      "text/plain": [
       "10957"
      ]
     },
     "execution_count": 53,
     "metadata": {},
     "output_type": "execute_result"
    }
   ],
   "source": [
    "# Calculate number of days in agiven time period\n",
    "\n",
    "def numberofdays(lb,ub):\n",
    "    sum = 0\n",
    "    for year in range(lb,ub+1):\n",
    "        if isleapyear(year):\n",
    "            sum = sum + 366\n",
    "        else:\n",
    "            sum = sum + 365\n",
    "    return sum\n",
    "\n",
    "numberofdays(1990,2019)"
   ]
  },
  {
   "cell_type": "code",
   "execution_count": null,
   "metadata": {},
   "outputs": [],
   "source": [
    "# Function to calculate number of hours for a given period\n",
    "# numberofhours(11, 1975, 3, 1999) -> 204504 or 205248\n",
    "# numberofhours(5, 2019, 6, 2019) -> 1464\n",
    "\n",
    "\n"
   ]
  },
  {
   "cell_type": "code",
   "execution_count": null,
   "metadata": {},
   "outputs": [],
   "source": []
  },
  {
   "cell_type": "code",
   "execution_count": 3,
   "metadata": {},
   "outputs": [
    {
     "ename": "SyntaxError",
     "evalue": "invalid syntax (<ipython-input-3-b47d37ff6ac6>, line 3)",
     "output_type": "error",
     "traceback": [
      "\u001b[1;36m  File \u001b[1;32m\"<ipython-input-3-b47d37ff6ac6>\"\u001b[1;36m, line \u001b[1;32m3\u001b[0m\n\u001b[1;33m    def divisiable(1b, ub):\u001b[0m\n\u001b[1;37m                   ^\u001b[0m\n\u001b[1;31mSyntaxError\u001b[0m\u001b[1;31m:\u001b[0m invalid syntax\n"
     ]
    }
   ],
   "source": [
    "#Funtion to print all numbers divisible by 6 and not a factor of 100 in a given range(1b, ub) inclusive\n",
    "\n",
    "def divisiable(1b, ub):\n",
    "    for i in range(1b, ub):\n",
    "        if i % 6 == 0 and 100 %\n"
   ]
  },
  {
   "cell_type": "code",
   "execution_count": 4,
   "metadata": {},
   "outputs": [],
   "source": [
    "#Function to find the average of cubes of all even numbers in a given range(1b, ub) inclusive"
   ]
  },
  {
   "cell_type": "code",
   "execution_count": 92,
   "metadata": {},
   "outputs": [
    {
     "ename": "SyntaxError",
     "evalue": "invalid syntax (<ipython-input-92-fb51109b34eb>, line 3)",
     "output_type": "error",
     "traceback": [
      "\u001b[1;36m  File \u001b[1;32m\"<ipython-input-92-fb51109b34eb>\"\u001b[1;36m, line \u001b[1;32m3\u001b[0m\n\u001b[1;33m    def i factors(n):\u001b[0m\n\u001b[1;37m                ^\u001b[0m\n\u001b[1;31mSyntaxError\u001b[0m\u001b[1;31m:\u001b[0m invalid syntax\n"
     ]
    }
   ],
   "source": [
    "#Fuction to generate the list of factors for a given number 12 -> 1 2 3 4 6 12\n",
    "\n",
    "def i factors(n):\n",
    "    for i in range(1,n+1):\n",
    "        if(n%i==0):\n",
    "    print(i)\n",
    "            \n",
    "factors(12)"
   ]
  },
  {
   "cell_type": "code",
   "execution_count": 35,
   "metadata": {},
   "outputs": [
    {
     "name": "stdout",
     "output_type": "stream",
     "text": [
      "5\n"
     ]
    }
   ],
   "source": [
    "#Function to calculate the factorial of a given number\n",
    "\n",
    "def factorial(n):\n",
    "    for i in range(1,n):\n",
    "        n = n * 1\n",
    "    print(n)\n",
    "    \n",
    "    \n",
    "factorial(5)"
   ]
  },
  {
   "cell_type": "code",
   "execution_count": 34,
   "metadata": {},
   "outputs": [
    {
     "ename": "IndentationError",
     "evalue": "unexpected indent (<ipython-input-34-a870c65f22dd>, line 3)",
     "output_type": "error",
     "traceback": [
      "\u001b[1;36m  File \u001b[1;32m\"<ipython-input-34-a870c65f22dd>\"\u001b[1;36m, line \u001b[1;32m3\u001b[0m\n\u001b[1;33m    def isprime(n):\u001b[0m\n\u001b[1;37m    ^\u001b[0m\n\u001b[1;31mIndentationError\u001b[0m\u001b[1;31m:\u001b[0m unexpected indent\n"
     ]
    }
   ],
   "source": [
    "#Function to check if a given number is prime\n",
    "\n",
    " def isprime(n):\n",
    "        flag = 1\n",
    "        for i in range(2, n//2):\n",
    "            if n % i ==0:\n",
    "                flag = Flase\n",
    "                return flag\n",
    "            return flag\n",
    "    \n",
    "    \n",
    "isprime(75)\n",
    "        "
   ]
  },
  {
   "cell_type": "code",
   "execution_count": 31,
   "metadata": {},
   "outputs": [
    {
     "ename": "NameError",
     "evalue": "name 'isPrime' is not defined",
     "output_type": "error",
     "traceback": [
      "\u001b[1;31m---------------------------------------------------------------------------\u001b[0m",
      "\u001b[1;31mNameError\u001b[0m                                 Traceback (most recent call last)",
      "\u001b[1;32m<ipython-input-31-53ba80ad502a>\u001b[0m in \u001b[0;36m<module>\u001b[1;34m\u001b[0m\n\u001b[0;32m     13\u001b[0m     \u001b[1;32mreturn\u001b[0m \u001b[0msum\u001b[0m\u001b[1;33m/\u001b[0m\u001b[0mn\u001b[0m\u001b[1;33m\u001b[0m\u001b[1;33m\u001b[0m\u001b[0m\n\u001b[0;32m     14\u001b[0m \u001b[1;33m\u001b[0m\u001b[0m\n\u001b[1;32m---> 15\u001b[1;33m \u001b[0mavgNPrimes\u001b[0m\u001b[1;33m(\u001b[0m\u001b[1;36m10\u001b[0m\u001b[1;33m)\u001b[0m\u001b[1;33m\u001b[0m\u001b[1;33m\u001b[0m\u001b[0m\n\u001b[0m",
      "\u001b[1;32m<ipython-input-31-53ba80ad502a>\u001b[0m in \u001b[0;36mavgNPrimes\u001b[1;34m(n)\u001b[0m\n\u001b[0;32m      6\u001b[0m     \u001b[0mseqcount\u001b[0m \u001b[1;33m=\u001b[0m \u001b[1;36m2\u001b[0m\u001b[1;33m\u001b[0m\u001b[1;33m\u001b[0m\u001b[0m\n\u001b[0;32m      7\u001b[0m     \u001b[1;32mwhile\u001b[0m\u001b[1;33m(\u001b[0m\u001b[0mcount\u001b[0m \u001b[1;33m<\u001b[0m\u001b[0mn\u001b[0m\u001b[1;33m)\u001b[0m\u001b[1;33m:\u001b[0m\u001b[1;33m\u001b[0m\u001b[1;33m\u001b[0m\u001b[0m\n\u001b[1;32m----> 8\u001b[1;33m         \u001b[1;32mif\u001b[0m \u001b[0misPrime\u001b[0m\u001b[1;33m(\u001b[0m\u001b[0mseqcount\u001b[0m\u001b[1;33m)\u001b[0m\u001b[1;33m:\u001b[0m\u001b[1;33m\u001b[0m\u001b[1;33m\u001b[0m\u001b[0m\n\u001b[0m\u001b[0;32m      9\u001b[0m             \u001b[0mprimecount\u001b[0m \u001b[1;33m+=\u001b[0m\u001b[1;36m1\u001b[0m\u001b[1;33m\u001b[0m\u001b[1;33m\u001b[0m\u001b[0m\n\u001b[0;32m     10\u001b[0m             \u001b[0msum\u001b[0m \u001b[1;33m+=\u001b[0m \u001b[0mseqcount\u001b[0m\u001b[1;33m\u001b[0m\u001b[1;33m\u001b[0m\u001b[0m\n",
      "\u001b[1;31mNameError\u001b[0m: name 'isPrime' is not defined"
     ]
    }
   ],
   "source": [
    "#Fuction to calculate the average first N prime numbers\n",
    "\n",
    "def avgNPrimes(n):\n",
    "    count = 0\n",
    "    sum = 0\n",
    "    seqcount = 2\n",
    "    while(count <n):\n",
    "        if isprime(seqcount):\n",
    "            primecount +=1\n",
    "            sum += seqcount\n",
    "            #print(seqcount)\n",
    "        seqcount += 1\n",
    "    return sum/n\n",
    "\n",
    "avgNPrimes(10)"
   ]
  },
  {
   "cell_type": "code",
   "execution_count": 101,
   "metadata": {},
   "outputs": [],
   "source": [
    "#Function to generate all perfect numbers in a given range"
   ]
  },
  {
   "cell_type": "code",
   "execution_count": null,
   "metadata": {},
   "outputs": [],
   "source": []
  },
  {
   "cell_type": "code",
   "execution_count": null,
   "metadata": {},
   "outputs": [],
   "source": []
  }
 ],
 "metadata": {
  "kernelspec": {
   "display_name": "Python 3",
   "language": "python",
   "name": "python3"
  },
  "language_info": {
   "codemirror_mode": {
    "name": "ipython",
    "version": 3
   },
   "file_extension": ".py",
   "mimetype": "text/x-python",
   "name": "python",
   "nbconvert_exporter": "python",
   "pygments_lexer": "ipython3",
   "version": "3.7.3"
  }
 },
 "nbformat": 4,
 "nbformat_minor": 2
}
