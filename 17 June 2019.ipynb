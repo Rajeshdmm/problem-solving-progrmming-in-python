{
 "cells": [
  {
   "cell_type": "markdown",
   "metadata": {},
   "source": [
    "# Toggle String"
   ]
  },
  {
   "cell_type": "code",
   "execution_count": 3,
   "metadata": {},
   "outputs": [
    {
     "data": {
      "text/plain": [
       "True"
      ]
     },
     "execution_count": 3,
     "metadata": {},
     "output_type": "execute_result"
    }
   ],
   "source": [
    "# Function to Toggle string charaters\n",
    "\n",
    "s = \"ABC\"\n",
    "\n",
    "s.isupper() # check the case of a character\n",
    "s.islower()\n",
    "\n",
    "s.isupper() \n",
    "s.islower()\n"
   ]
  },
  {
   "cell_type": "code",
   "execution_count": 6,
   "metadata": {},
   "outputs": [
    {
     "data": {
      "text/plain": [
       "'abc'"
      ]
     },
     "execution_count": 6,
     "metadata": {},
     "output_type": "execute_result"
    }
   ],
   "source": [
    "# Function to Toggle string charaters\n",
    "\n",
    "def togglestring(s):\n",
    "    s = list(s)\n",
    "    t = []\n",
    "    for c in s:\n",
    "        if c.islower():\n",
    "            t.append(c.upper())\n",
    "        else:\n",
    "            t.append(c.lower())\n",
    "    return \"\".join(t)\n",
    "\n",
    "togglestring(\"ABC\")\n"
   ]
  },
  {
   "cell_type": "markdown",
   "metadata": {},
   "source": [
    "#### Problem : Duration\n",
    "\n",
    "**Input**: start time, end time (HH MM) <br>\n",
    "        HH - {00, 01, 02, 03 ..... 23} <br>\n",
    "        MM - {00, 01, 02, 03 ..... 59} <br>\n",
    "        HH MM - {00 00, 23 59}\n",
    "        \n",
    "        \n",
    "**Output**: time difference in HH MM\n",
    "\n"
   ]
  },
  {
   "cell_type": "code",
   "execution_count": 9,
   "metadata": {},
   "outputs": [
    {
     "name": "stdout",
     "output_type": "stream",
     "text": [
      "0 30\n"
     ]
    }
   ],
   "source": [
    "# calculate the time difference as total number of \n",
    "# convert the total minutes into HH MM\n",
    "\n",
    "s = \"1 44 2 14\"\n",
    "\n",
    "def minutesdifference(s):\n",
    "    s = s.split()\n",
    "    sh = int(s[0])\n",
    "    sm = int(s[1])\n",
    "    eh = int(s[2])\n",
    "    em = int(s[3])\n",
    "    startminutes = (sh * 60) + sm\n",
    "    endminutes = (eh * 60) + em\n",
    "    return endminutes - startminutes\n",
    "\n",
    "def outputtimeformat(minutes):\n",
    "    # convert minutes to HH MM\n",
    "    hh = minutes // 60\n",
    "    mm = minutes % 60\n",
    "    print(hh, mm)\n",
    "    return\n",
    "\n",
    "minutes = minutesdifference(s)\n",
    "outputtimeformat(minutes)"
   ]
  },
  {
   "cell_type": "code",
   "execution_count": null,
   "metadata": {},
   "outputs": [],
   "source": [
    "# Rahul is a very busy persion he dont wan't to waste his time . He keeps account of duration of each and every work. Now he \n",
    "# don't even get time to calculate duration of works, So your job is to count the durations for each work and give it to rahul.\n",
    "\n",
    " \n",
    "\n",
    "Input:\n",
    "\n",
    "First line will be given by N number of works\n",
    "Next N line will be given SH,SM,EH and EM  each separated by space(SH=starting hr, SM=starting min, EH=ending hr, EM=ending min)\n",
    "Output:\n",
    "\n",
    "N lines with duration HH MM(hours and minutes separated by space)\n"
   ]
  },
  {
   "cell_type": "markdown",
   "metadata": {},
   "source": [
    "### Problem ; Play with Numbers\n",
    "\n",
    "line 1 : array size, no of queries(q)\n",
    "line 2 : n array elements\n",
    "next q lines : query - sub array of the original array\n",
    "\n",
    "\n",
    "5 2\n",
    "1 2 3 4 5\n",
    "\n",
    "1 2 \n",
    "0 5"
   ]
  },
  {
   "cell_type": "code",
   "execution_count": 15,
   "metadata": {},
   "outputs": [
    {
     "name": "stdout",
     "output_type": "stream",
     "text": [
      "0\n",
      "Raja\n",
      "3\n",
      "4\n"
     ]
    }
   ],
   "source": [
    "f = 0\n",
    "print(f)\n",
    "\n",
    "f = \"Raja\"\n",
    "print(f)\n",
    "\n",
    "a = 3\n",
    "print(3)\n",
    "\n",
    "print(4)\n",
    "\n"
   ]
  },
  {
   "cell_type": "code",
   "execution_count": 42,
   "metadata": {},
   "outputs": [
    {
     "name": "stdout",
     "output_type": "stream",
     "text": [
      "44\n",
      "44\n"
     ]
    }
   ],
   "source": [
    "a = 44\n",
    "print(a)\n",
    "print(a)"
   ]
  },
  {
   "cell_type": "code",
   "execution_count": 19,
   "metadata": {},
   "outputs": [
    {
     "name": "stdout",
     "output_type": "stream",
     "text": [
      "7\n"
     ]
    }
   ],
   "source": [
    "a = 3\n",
    "b = 4\n",
    "print (a+b)"
   ]
  },
  {
   "cell_type": "code",
   "execution_count": 21,
   "metadata": {},
   "outputs": [
    {
     "name": "stdout",
     "output_type": "stream",
     "text": [
      "Raja7745\n"
     ]
    }
   ],
   "source": [
    "a = \"Raja\"\n",
    "b = 7745\n",
    "print (a+str(b))"
   ]
  },
  {
   "cell_type": "code",
   "execution_count": 39,
   "metadata": {},
   "outputs": [
    {
     "name": "stdout",
     "output_type": "stream",
     "text": [
      "899\n",
      "899\n",
      "I am learning Python\n"
     ]
    }
   ],
   "source": [
    "a = 899\n",
    "print(a)\n",
    "\n",
    "def somefunction():\n",
    "    global f\n",
    "    f = \"I am learning Python\"\n",
    "    print(a)\n",
    "\n",
    "somefunction()\n",
    "print(f)"
   ]
  },
  {
   "cell_type": "code",
   "execution_count": 44,
   "metadata": {},
   "outputs": [
    {
     "name": "stdout",
     "output_type": "stream",
     "text": [
      "5\n"
     ]
    }
   ],
   "source": [
    "def highestremainder(n):\n",
    "    hr = 0\n",
    "    v = n\n",
    "    for i in range(n-1,n // 2 + 1):\n",
    "        r = n % i\n",
    "        if r > hr:\n",
    "            hr = r\n",
    "            v = i\n",
    "    print(v)\n",
    "    return\n",
    "\n",
    "highestremainder(5)"
   ]
  },
  {
   "cell_type": "code",
   "execution_count": 45,
   "metadata": {},
   "outputs": [
    {
     "name": "stdout",
     "output_type": "stream",
     "text": [
      "value of (v + w) * x / y is 27.0\n"
     ]
    }
   ],
   "source": [
    "v = 4\n",
    "w = 5\n",
    "x = 6\n",
    "y = 2\n",
    "z = 0\n",
    "z = (v + w) * x / y;\n",
    "print(\"value of (v + w) * x / y is\", z)"
   ]
  },
  {
   "cell_type": "code",
   "execution_count": null,
   "metadata": {},
   "outputs": [],
   "source": []
  }
 ],
 "metadata": {
  "kernelspec": {
   "display_name": "Python 3",
   "language": "python",
   "name": "python3"
  },
  "language_info": {
   "codemirror_mode": {
    "name": "ipython",
    "version": 3
   },
   "file_extension": ".py",
   "mimetype": "text/x-python",
   "name": "python",
   "nbconvert_exporter": "python",
   "pygments_lexer": "ipython3",
   "version": "3.7.3"
  }
 },
 "nbformat": 4,
 "nbformat_minor": 2
}
